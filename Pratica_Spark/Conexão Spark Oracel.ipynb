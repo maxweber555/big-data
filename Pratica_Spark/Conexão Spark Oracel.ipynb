{
 "cells": [
  {
   "cell_type": "markdown",
   "id": "8c484fa0",
   "metadata": {},
   "source": [
    "# Session com Spark"
   ]
  },
  {
   "cell_type": "code",
   "execution_count": null,
   "id": "0c1f1ce6",
   "metadata": {},
   "outputs": [],
   "source": [
    "from pyspark.sql import SparkSession\n",
    "import json\n",
    "import os\n"
   ]
  },
  {
   "cell_type": "code",
   "execution_count": null,
   "metadata": {},
   "outputs": [],
   "source": [
    "#Definindo SPARK_LOCAL_IP antes de criar a SparkSession\n",
    "os.environ[\"SPARK_LOCAL_IP\"] = \"10.2.1.27\"  \n",
    "os.environ[\"SPARK_HOME\"]=\"/opt/spark\"\n",
    "#os.environ[\"PATH\"]=\"$PATH:$SPARK_HOME/bin\"\n"
   ]
  },
  {
   "cell_type": "code",
   "execution_count": null,
   "id": "c8c7d77f",
   "metadata": {},
   "outputs": [],
   "source": [
    "master = \"spark://10.2.3.249:7077\"\n",
    "#spark= SparkSession.builder.master(master).appName(\"Oracle Spark Connexao\").config(\"spark.jars\", \"/home/maxweber/jupyter-notebook/jars/ojdbc8.jar\").getOrCreate() #master\n",
    "spark= SparkSession.builder.appName(\"Oracle Spark Connector\").config(\"spark.jars\", \"/home/maxweber/jupyter-notebook/jars/ojdbc8.jar\").getOrCreate()  #local\n",
    "sc = spark.sparkContext\n",
    "#sc.setLogLevel(\"WARN\")\n"
   ]
  },
  {
   "cell_type": "code",
   "execution_count": null,
   "id": "e89fdb38",
   "metadata": {},
   "outputs": [],
   "source": []
  },
  {
   "cell_type": "code",
   "execution_count": null,
   "id": "b46dea17",
   "metadata": {},
   "outputs": [],
   "source": [
    "spark"
   ]
  },
  {
   "cell_type": "markdown",
   "id": "ddeb1bca",
   "metadata": {},
   "source": [
    "# Extraindo Dado"
   ]
  },
  {
   "cell_type": "code",
   "execution_count": null,
   "id": "b40443e6",
   "metadata": {},
   "outputs": [],
   "source": [
    "# Configurar propriedades JDBC\n",
    "\n",
    "\n",
    "# Carregar credenciais do arquivo JSON\n",
    "with open(\"conf.json\") as f:\n",
    "        credencial = json.load(f)[\"oracle\"]\n",
    "\n",
    "jdbc_url = \"jdbc:oracle:thin:@ex8-sf01scan.sefaz.pi.gov.br:1521/SF01\"\n",
    "properties = {\n",
    "  \"user\": credencial[\"user\"],\n",
    "  \"password\":credencial[\"password\"],\n",
    "  \"driver\": \"oracle.jdbc.OracleDriver\"\n",
    "   #\"driver\":\"oracle.jdbc.driver.OracleDriver\"\n",
    "}"
   ]
  },
  {
   "cell_type": "code",
   "execution_count": null,
   "id": "327eb6ac",
   "metadata": {},
   "outputs": [],
   "source": [
    " # Carregar dados do Oracle para DataFrame\n",
    "try:\n",
    "    \n",
    "      \n",
    "        \n",
    "    query = \"(SELECT 1 as result FROM DUAL) subquery_alias\"\n",
    "    \n",
    "\n",
    "    \n",
    "    df = spark.read.format(\"jdbc\") \\\n",
    "        .option(\"url\", jdbc_url) \\\n",
    "        .option(\"dbtable\", query2) \\\n",
    "        .option(\"user\", properties[\"user\"]) \\\n",
    "        .option(\"password\", properties[\"password\"]) \\\n",
    "        .option(\"driver\", properties[\"driver\"]) \\\n",
    "        .load()\n",
    "    \n",
    "    df.persist() # Persistido RDD na memória do \n",
    "\n",
    "\n",
    "\n",
    "except Exception as e:\n",
    "    print(\"Erro ao conectar ao Oracle e carregar dados:\", e)\n",
    "\n",
    "\n"
   ]
  },
  {
   "cell_type": "code",
   "execution_count": null,
   "id": "01ba8912",
   "metadata": {},
   "outputs": [],
   "source": [
    "df.persist().is_cached  ## Verificando se o dado do RDD foi persistido na memória"
   ]
  },
  {
   "cell_type": "code",
   "execution_count": null,
   "id": "b4bb7ed1",
   "metadata": {},
   "outputs": [],
   "source": [
    "df.limit(20).show(truncate=False)\n"
   ]
  },
  {
   "cell_type": "code",
   "execution_count": null,
   "metadata": {},
   "outputs": [],
   "source": [
    "df.take(10)"
   ]
  },
  {
   "cell_type": "code",
   "execution_count": null,
   "id": "3846d797",
   "metadata": {},
   "outputs": [],
   "source": [
    "# Criar RDD a partir do DataFrame\n",
    "oracle_rdd = df.rdd\n",
    "\n",
    "oracle_rdd.count()\n",
    "\n",
    "#primeirasMil=oracle_rdd.take(5)"
   ]
  },
  {
   "cell_type": "code",
   "execution_count": null,
   "id": "503e1d73",
   "metadata": {},
   "outputs": [],
   "source": [
    "# Encerrando a SparkSession\n",
    "spark.stop()"
   ]
  }
 ],
 "metadata": {
  "kernelspec": {
   "display_name": "Python 3 (ipykernel)",
   "language": "python",
   "name": "python3"
  },
  "language_info": {
   "codemirror_mode": {
    "name": "ipython",
    "version": 3
   },
   "file_extension": ".py",
   "mimetype": "text/x-python",
   "name": "python",
   "nbconvert_exporter": "python",
   "pygments_lexer": "ipython3",
   "version": "3.10.12"
  }
 },
 "nbformat": 4,
 "nbformat_minor": 5
}
