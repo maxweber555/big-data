{
 "cells": [
  {
   "cell_type": "code",
   "execution_count": 1,
   "metadata": {},
   "outputs": [],
   "source": [
    "### Análise Vendas"
   ]
  },
  {
   "cell_type": "code",
   "execution_count": 2,
   "metadata": {},
   "outputs": [],
   "source": [
    "from pyspark.sql import SparkSession\n",
    "import json\n",
    "import os"
   ]
  },
  {
   "cell_type": "code",
   "execution_count": 3,
   "metadata": {},
   "outputs": [],
   "source": [
    "#Definindo SPARK_LOCAL_IP antes de criar a SparkSession\n",
    "os.environ[\"SPARK_LOCAL_IP\"] = \"10.2.1.27\"  \n",
    "os.environ[\"SPARK_HOME\"]=\"/opt/spark\"\n",
    "#os.environ[\"PATH\"]=\"$PATH:$SPARK_HOME/bin\"\n"
   ]
  },
  {
   "cell_type": "code",
   "execution_count": 4,
   "metadata": {},
   "outputs": [
    {
     "name": "stderr",
     "output_type": "stream",
     "text": [
      "Setting default log level to \"WARN\".\n",
      "To adjust logging level use sc.setLogLevel(newLevel). For SparkR, use setLogLevel(newLevel).\n",
      "24/03/01 09:42:13 WARN NativeCodeLoader: Unable to load native-hadoop library for your platform... using builtin-java classes where applicable\n"
     ]
    },
    {
     "data": {
      "text/plain": [
       "True"
      ]
     },
     "execution_count": 4,
     "metadata": {},
     "output_type": "execute_result"
    }
   ],
   "source": [
    "spark= SparkSession.builder.appName(\"Análise Vendas\").getOrCreate() \n",
    "scRdd = spark.sparkContext.textFile(\"TRAB2/train.csv\")\n",
    "scDf = spark.read.option(\"header\",\"True\").csv(\"TRAB2/train.csv\") #Lendo o arquivo como o DataFrame\n",
    "scDf.persist()\n",
    "scDf.is_cached\n",
    "\n"
   ]
  },
  {
   "cell_type": "code",
   "execution_count": 5,
   "metadata": {},
   "outputs": [
    {
     "name": "stderr",
     "output_type": "stream",
     "text": [
      "[Stage 1:============================================>              (3 + 1) / 4]\r"
     ]
    },
    {
     "name": "stdout",
     "output_type": "stream",
     "text": [
      "+-------+----------+------+-----+----------+-------------+--------------------------+--------------+------------------+------------------+------------------+--------+\n",
      "|User_ID|Product_ID|Gender|Age  |Occupation|City_Category|Stay_In_Current_City_Years|Marital_Status|Product_Category_1|Product_Category_2|Product_Category_3|Purchase|\n",
      "+-------+----------+------+-----+----------+-------------+--------------------------+--------------+------------------+------------------+------------------+--------+\n",
      "|1000001|P00069042 |F     |0-17 |10        |A            |2                         |0             |3                 |NULL              |NULL              |8370    |\n",
      "|1000001|P00248942 |F     |0-17 |10        |A            |2                         |0             |1                 |6                 |14                |15200   |\n",
      "|1000001|P00087842 |F     |0-17 |10        |A            |2                         |0             |12                |NULL              |NULL              |1422    |\n",
      "|1000001|P00085442 |F     |0-17 |10        |A            |2                         |0             |12                |14                |NULL              |1057    |\n",
      "|1000002|P00285442 |M     |55+  |16        |C            |4+                        |0             |8                 |NULL              |NULL              |7969    |\n",
      "|1000003|P00193542 |M     |26-35|15        |A            |3                         |0             |1                 |2                 |NULL              |15227   |\n",
      "|1000004|P00184942 |M     |46-50|7         |B            |2                         |1             |1                 |8                 |17                |19215   |\n",
      "|1000004|P00346142 |M     |46-50|7         |B            |2                         |1             |1                 |15                |NULL              |15854   |\n",
      "|1000004|P0097242  |M     |46-50|7         |B            |2                         |1             |1                 |16                |NULL              |15686   |\n",
      "|1000005|P00274942 |M     |26-35|20        |A            |1                         |1             |8                 |NULL              |NULL              |7871    |\n",
      "|1000005|P00251242 |M     |26-35|20        |A            |1                         |1             |5                 |11                |NULL              |5254    |\n",
      "|1000005|P00014542 |M     |26-35|20        |A            |1                         |1             |8                 |NULL              |NULL              |3957    |\n",
      "|1000005|P00031342 |M     |26-35|20        |A            |1                         |1             |8                 |NULL              |NULL              |6073    |\n",
      "|1000005|P00145042 |M     |26-35|20        |A            |1                         |1             |1                 |2                 |5                 |15665   |\n",
      "|1000006|P00231342 |F     |51-55|9         |A            |1                         |0             |5                 |8                 |14                |5378    |\n",
      "|1000006|P00190242 |F     |51-55|9         |A            |1                         |0             |4                 |5                 |NULL              |2079    |\n",
      "|1000006|P0096642  |F     |51-55|9         |A            |1                         |0             |2                 |3                 |4                 |13055   |\n",
      "|1000006|P00058442 |F     |51-55|9         |A            |1                         |0             |5                 |14                |NULL              |8851    |\n",
      "|1000007|P00036842 |M     |36-45|1         |B            |1                         |1             |1                 |14                |16                |11788   |\n",
      "|1000008|P00249542 |M     |26-35|12        |C            |4+                        |1             |1                 |5                 |15                |19614   |\n",
      "+-------+----------+------+-----+----------+-------------+--------------------------+--------------+------------------+------------------+------------------+--------+\n",
      "only showing top 20 rows\n",
      "\n"
     ]
    },
    {
     "name": "stderr",
     "output_type": "stream",
     "text": [
      "                                                                                \r"
     ]
    }
   ],
   "source": [
    "scDf.show(truncate=False) #exibindo dataframe\n",
    "#sc.collect()\n"
   ]
  },
  {
   "cell_type": "code",
   "execution_count": 6,
   "metadata": {},
   "outputs": [
    {
     "name": "stdout",
     "output_type": "stream",
     "text": [
      "root\n",
      " |-- User_ID: string (nullable = true)\n",
      " |-- Product_ID: string (nullable = true)\n",
      " |-- Gender: string (nullable = true)\n",
      " |-- Age: string (nullable = true)\n",
      " |-- Occupation: string (nullable = true)\n",
      " |-- City_Category: string (nullable = true)\n",
      " |-- Stay_In_Current_City_Years: string (nullable = true)\n",
      " |-- Marital_Status: string (nullable = true)\n",
      " |-- Product_Category_1: string (nullable = true)\n",
      " |-- Product_Category_2: string (nullable = true)\n",
      " |-- Product_Category_3: string (nullable = true)\n",
      " |-- Purchase: string (nullable = true)\n",
      "\n"
     ]
    }
   ],
   "source": [
    "#Apresente o esquema da estrutura importad\n",
    "scDf.printSchema()\n"
   ]
  },
  {
   "cell_type": "code",
   "execution_count": 7,
   "metadata": {},
   "outputs": [
    {
     "data": {
      "text/plain": [
       "550068"
      ]
     },
     "execution_count": 7,
     "metadata": {},
     "output_type": "execute_result"
    }
   ],
   "source": [
    "#Verifique a quantidade de linhas da estrutura importada\n",
    "scDf.count()"
   ]
  },
  {
   "cell_type": "code",
   "execution_count": 8,
   "metadata": {},
   "outputs": [
    {
     "name": "stdout",
     "output_type": "stream",
     "text": [
      "root\n",
      " |-- User_ID: string (nullable = true)\n",
      " |-- Product_ID: string (nullable = true)\n",
      " |-- Gender: string (nullable = true)\n",
      " |-- Age: string (nullable = true)\n",
      " |-- Occupation: string (nullable = true)\n",
      " |-- City_Category: string (nullable = true)\n",
      " |-- Stay_In_Current_City_Years: string (nullable = true)\n",
      " |-- Marital_Status: string (nullable = true)\n",
      " |-- Product_Category_1: string (nullable = true)\n",
      " |-- Product_Category_2: string (nullable = true)\n",
      " |-- Product_Category_3: string (nullable = true)\n",
      " |-- Purchase: integer (nullable = true)\n",
      "\n"
     ]
    }
   ],
   "source": [
    "#Faça uma análise estatística descritiva básica(média, desvio padrão, quantidade, min,max ) para a coluna Purchase (transforme a coluna purchase para o tipo de dados inteiro)\n",
    "from pyspark.sql.functions import col\n",
    "colunaPurchase=scDf.withColumn(\"Purchase\", col(\"Purchase\").cast(\"int\"))\n",
    "colunaPurchase.printSchema()\n",
    "\n"
   ]
  },
  {
   "cell_type": "code",
   "execution_count": 9,
   "metadata": {},
   "outputs": [
    {
     "name": "stdout",
     "output_type": "stream",
     "text": [
      "+-------+-----------------+\n",
      "|summary|         Purchase|\n",
      "+-------+-----------------+\n",
      "|  count|           550068|\n",
      "|   mean|9263.968712959126|\n",
      "| stddev|5023.065393820554|\n",
      "|    min|               12|\n",
      "|    max|            23961|\n",
      "+-------+-----------------+\n",
      "\n"
     ]
    }
   ],
   "source": [
    "colunaPurchase.select(\"Purchase\").describe().show()"
   ]
  },
  {
   "cell_type": "code",
   "execution_count": 10,
   "metadata": {},
   "outputs": [
    {
     "data": {
      "text/plain": [
       "5891"
      ]
     },
     "execution_count": 10,
     "metadata": {},
     "output_type": "execute_result"
    }
   ],
   "source": [
    "#Verifique o número de produtos distintos contidos nesta base de dados\n",
    "scDf.select(\"User_ID\").distinct().count()"
   ]
  },
  {
   "cell_type": "code",
   "execution_count": 11,
   "metadata": {},
   "outputs": [
    {
     "name": "stderr",
     "output_type": "stream",
     "text": [
      "                                                                                \r"
     ]
    },
    {
     "name": "stdout",
     "output_type": "stream",
     "text": [
      "+----------+-----+------+\n",
      "|Age_Gender|    F|     M|\n",
      "+----------+-----+------+\n",
      "|      0-17| 5083| 10019|\n",
      "|     18-25|24628| 75032|\n",
      "|     26-35|50752|168835|\n",
      "|     36-45|27170| 82843|\n",
      "|     46-50|13199| 32502|\n",
      "|     51-55| 9894| 28607|\n",
      "|       55+| 5083| 16421|\n",
      "+----------+-----+------+\n",
      "\n"
     ]
    }
   ],
   "source": [
    "#Verifique o número de pessoas que compraram os produtos por idade cruzados por gênero\n",
    "cros=scDf.crosstab(\"Age\",\"Gender\")\n",
    "crosstab_sort = cros.orderBy(col(\"Age_Gender\").asc())  # Ordenando a tabela cross\n",
    "crosstab_sort.show()\n"
   ]
  },
  {
   "cell_type": "code",
   "execution_count": 12,
   "metadata": {},
   "outputs": [
    {
     "data": {
      "text/plain": [
       "12691"
      ]
     },
     "execution_count": 12,
     "metadata": {},
     "output_type": "execute_result"
    }
   ],
   "source": [
    "#Verifique o número de pessoas que compraram os produtos por idade cruzados por gênero\n",
    "scDf_maior_vinteMil = scDf.filter(scDf.Purchase > 20000)\n",
    "scDf_maior_vinteMil.count()"
   ]
  },
  {
   "cell_type": "code",
   "execution_count": 17,
   "metadata": {},
   "outputs": [
    {
     "data": {
      "text/plain": [
       "2822"
      ]
     },
     "execution_count": 17,
     "metadata": {},
     "output_type": "execute_result"
    }
   ],
   "source": [
    "#Crie outro data frame em que o valor da compras(purchase) foi maior que 20.000 e menor que 45000 somente para as mulheres('F'). Depois exiba o número de linhas:\n",
    "\n",
    "scDf_maior_vinteMil_menor_ = scDf_maior_vinteMil.filter((scDf_maior_vinteMil.Gender =='F') & (scDf_maior_vinteMil.Purchase < 45000))\n",
    "scDf_maior_vinteMil_menor_.count()"
   ]
  },
  {
   "cell_type": "code",
   "execution_count": 25,
   "metadata": {},
   "outputs": [
    {
     "name": "stdout",
     "output_type": "stream",
     "text": [
      "+-----+-----------------+\n",
      "|  Age|    avg(Purchase)|\n",
      "+-----+-----------------+\n",
      "|18-25|9169.663606261289|\n",
      "|26-35|9252.690632869888|\n",
      "| 0-17|8933.464640444974|\n",
      "|46-50|9208.625697468327|\n",
      "|51-55|9534.808030960236|\n",
      "|36-45|9331.350694917874|\n",
      "|  55+|9336.280459449405|\n",
      "+-----+-----------------+\n",
      "\n"
     ]
    }
   ],
   "source": [
    "#Encontre a média de compras (purchase) de cada uma das faixas de idade Resultado(s):\n",
    "media = scDf.groupby(\"Age\").agg({'Purchase':'mean'})\n",
    "media.show()\n"
   ]
  },
  {
   "cell_type": "code",
   "execution_count": 27,
   "metadata": {},
   "outputs": [
    {
     "name": "stdout",
     "output_type": "stream",
     "text": [
      "+------+-----------------+\n",
      "|Gender|    avg(Purchase)|\n",
      "+------+-----------------+\n",
      "|     F|8734.565765155476|\n",
      "|     M|9437.526040472265|\n",
      "+------+-----------------+\n",
      "\n"
     ]
    }
   ],
   "source": [
    "#Encontre a média de compras (purchase) de cada uma por genero:\n",
    "mediaGn = scDf.groupby(\"Gender\").agg({'Purchase':'mean'})\n",
    "mediaGn.show()"
   ]
  },
  {
   "cell_type": "code",
   "execution_count": 39,
   "metadata": {},
   "outputs": [
    {
     "name": "stdout",
     "output_type": "stream",
     "text": [
      "+-----+-----------------+------------------+\n",
      "|  Age|    avg(Purchase)|    Pur_10_percent|\n",
      "+-----+-----------------+------------------+\n",
      "|18-25|9169.663606261289|10086.629966887418|\n",
      "|26-35|9252.690632869888|10177.959696156877|\n",
      "| 0-17|8933.464640444974| 9826.811104489472|\n",
      "|46-50|9208.625697468327|10129.488267215162|\n",
      "|51-55|9534.808030960236| 10488.28883405626|\n",
      "|36-45|9331.350694917874|10264.485764409661|\n",
      "|  55+|9336.280459449405|10269.908505394345|\n",
      "+-----+-----------------+------------------+\n",
      "\n"
     ]
    }
   ],
   "source": [
    "#Faça uma simulação gerando um novo dataframe com a média de compras por idade aumentada em 10%:\n",
    "resultado10 = media.withColumn(\"Pur_10_percent\",col(\"avg(Purchase)\")*1.10)\n",
    "resultado10.show()\n",
    "\n"
   ]
  }
 ],
 "metadata": {
  "kernelspec": {
   "display_name": "Python 3",
   "language": "python",
   "name": "python3"
  },
  "language_info": {
   "codemirror_mode": {
    "name": "ipython",
    "version": 3
   },
   "file_extension": ".py",
   "mimetype": "text/x-python",
   "name": "python",
   "nbconvert_exporter": "python",
   "pygments_lexer": "ipython3",
   "version": "3.10.12"
  }
 },
 "nbformat": 4,
 "nbformat_minor": 2
}
